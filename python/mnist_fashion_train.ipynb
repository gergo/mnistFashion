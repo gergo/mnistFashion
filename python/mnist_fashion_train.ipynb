{
 "cells": [
  {
   "cell_type": "markdown",
   "metadata": {},
   "source": [
    "<img src=\"./pics/DL.png\" width=110 align=\"left\" style=\"margin-right: 10px\">\n",
    "\n",
    "# Introduction to Deep Learning\n",
    "\n",
    "## 10. Home Assignment II.\n",
    "\n",
    "---"
   ]
  },
  {
   "cell_type": "markdown",
   "metadata": {},
   "source": [
    "## B) Fashion MNIST\n",
    "\n",
    "<img src=\"./pics/exercises/fashion.gif\" width=400>\n",
    "\n",
    "Build a convolutional network to classify the fashion mnist dataset. Build a function which will predict the class for an image. The function will get a path of an image as a parameter, it reads the image then returns the predicted class. You can assume that the path will always contain an image, which has *28 x 28 x 4* dimensions.\n",
    "\n",
    "The dataset is available in [keras](https://keras.io/datasets/#fashion-mnist-database-of-fashion-articles). An example image is available at `data/fashion/test.png`."
   ]
  },
  {
   "cell_type": "code",
   "execution_count": 1,
   "metadata": {},
   "outputs": [
    {
     "name": "stderr",
     "output_type": "stream",
     "text": [
      "Using TensorFlow backend.\n"
     ]
    }
   ],
   "source": [
    "import matplotlib.pyplot as plt\n",
    "import numpy as np\n",
    "import pandas as pd\n",
    "import tensorflow as tf\n",
    "\n",
    "from keras.models import Sequential\n",
    "from keras.wrappers.scikit_learn import KerasClassifier\n",
    "from keras.optimizers import adam\n",
    "from tensorflow.keras.layers import Dense, Dropout, Flatten, Conv2D, MaxPool2D, Input\n",
    "from tensorflow.keras.models import Model, Sequential\n",
    "from tensorflow.keras.callbacks import EarlyStopping\n",
    "\n",
    "from numpy.random import seed\n",
    "\n",
    "from sklearn.datasets import load_digits\n",
    "from sklearn.model_selection import train_test_split"
   ]
  },
  {
   "cell_type": "code",
   "execution_count": 2,
   "metadata": {},
   "outputs": [],
   "source": [
    "# set random seeds for reproducibility\n",
    "tf.random.set_seed(42)\n",
    "seed(42)"
   ]
  },
  {
   "cell_type": "code",
   "execution_count": 3,
   "metadata": {},
   "outputs": [],
   "source": [
    "# download dataset and rescale to 0-1\n",
    "(x_train, y_train), (x_test, y_test) = tf.keras.datasets.fashion_mnist.load_data()\n",
    "x_train = x_train.astype('float32') / 255.0\n",
    "x_test = x_test.astype('float32') / 255.0"
   ]
  },
  {
   "cell_type": "code",
   "execution_count": 4,
   "metadata": {},
   "outputs": [
    {
     "name": "stdout",
     "output_type": "stream",
     "text": [
      "(60000, 28, 28)\n",
      "(60000,)\n",
      "(10000, 28, 28)\n",
      "(10000,)\n",
      "[[0.         0.         0.         0.         0.         0.\n",
      "  0.         0.         0.         0.         0.         0.\n",
      "  0.         0.         0.         0.         0.         0.\n",
      "  0.         0.         0.         0.         0.         0.\n",
      "  0.         0.         0.         0.        ]\n",
      " [0.         0.         0.         0.         0.         0.\n",
      "  0.         0.         0.         0.         0.         0.\n",
      "  0.         0.         0.         0.         0.         0.\n",
      "  0.         0.         0.         0.         0.         0.\n",
      "  0.         0.         0.         0.        ]\n",
      " [0.         0.         0.         0.         0.         0.\n",
      "  0.         0.         0.         0.         0.         0.\n",
      "  0.         0.         0.         0.         0.         0.\n",
      "  0.         0.         0.         0.         0.         0.\n",
      "  0.         0.         0.         0.        ]\n",
      " [0.         0.         0.         0.         0.         0.\n",
      "  0.         0.         0.         0.         0.         0.\n",
      "  0.00392157 0.         0.         0.05098039 0.28627452 0.\n",
      "  0.         0.00392157 0.01568628 0.         0.         0.\n",
      "  0.         0.00392157 0.00392157 0.        ]\n",
      " [0.         0.         0.         0.         0.         0.\n",
      "  0.         0.         0.         0.         0.         0.\n",
      "  0.01176471 0.         0.14117648 0.53333336 0.49803922 0.24313726\n",
      "  0.21176471 0.         0.         0.         0.00392157 0.01176471\n",
      "  0.01568628 0.         0.         0.01176471]\n",
      " [0.         0.         0.         0.         0.         0.\n",
      "  0.         0.         0.         0.         0.         0.\n",
      "  0.02352941 0.         0.4        0.8        0.6901961  0.5254902\n",
      "  0.5647059  0.48235294 0.09019608 0.         0.         0.\n",
      "  0.         0.04705882 0.03921569 0.        ]\n",
      " [0.         0.         0.         0.         0.         0.\n",
      "  0.         0.         0.         0.         0.         0.\n",
      "  0.         0.         0.60784316 0.9254902  0.8117647  0.69803923\n",
      "  0.41960785 0.6117647  0.6313726  0.42745098 0.2509804  0.09019608\n",
      "  0.3019608  0.50980395 0.28235295 0.05882353]\n",
      " [0.         0.         0.         0.         0.         0.\n",
      "  0.         0.         0.         0.         0.         0.00392157\n",
      "  0.         0.27058825 0.8117647  0.8745098  0.85490197 0.84705883\n",
      "  0.84705883 0.6392157  0.49803922 0.4745098  0.47843137 0.57254905\n",
      "  0.5529412  0.34509805 0.6745098  0.25882354]\n",
      " [0.         0.         0.         0.         0.         0.\n",
      "  0.         0.         0.         0.00392157 0.00392157 0.00392157\n",
      "  0.         0.78431374 0.9098039  0.9098039  0.9137255  0.8980392\n",
      "  0.8745098  0.8745098  0.84313726 0.8352941  0.6431373  0.49803922\n",
      "  0.48235294 0.76862746 0.8980392  0.        ]\n",
      " [0.         0.         0.         0.         0.         0.\n",
      "  0.         0.         0.         0.         0.         0.\n",
      "  0.         0.7176471  0.88235295 0.84705883 0.8745098  0.89411765\n",
      "  0.92156863 0.8901961  0.8784314  0.87058824 0.8784314  0.8666667\n",
      "  0.8745098  0.9607843  0.6784314  0.        ]\n",
      " [0.         0.         0.         0.         0.         0.\n",
      "  0.         0.         0.         0.         0.         0.\n",
      "  0.         0.75686276 0.89411765 0.85490197 0.8352941  0.7764706\n",
      "  0.7058824  0.83137256 0.8235294  0.827451   0.8352941  0.8745098\n",
      "  0.8627451  0.9529412  0.7921569  0.        ]\n",
      " [0.         0.         0.         0.         0.         0.\n",
      "  0.         0.         0.         0.00392157 0.01176471 0.\n",
      "  0.04705882 0.85882354 0.8627451  0.83137256 0.85490197 0.7529412\n",
      "  0.6627451  0.8901961  0.8156863  0.85490197 0.8784314  0.83137256\n",
      "  0.8862745  0.77254903 0.81960785 0.20392157]\n",
      " [0.         0.         0.         0.         0.         0.\n",
      "  0.         0.         0.         0.         0.02352941 0.\n",
      "  0.3882353  0.95686275 0.87058824 0.8627451  0.85490197 0.79607844\n",
      "  0.7764706  0.8666667  0.84313726 0.8352941  0.87058824 0.8627451\n",
      "  0.9607843  0.46666667 0.654902   0.21960784]\n",
      " [0.         0.         0.         0.         0.         0.\n",
      "  0.         0.         0.         0.01568628 0.         0.\n",
      "  0.21568628 0.9254902  0.89411765 0.9019608  0.89411765 0.9411765\n",
      "  0.9098039  0.8352941  0.85490197 0.8745098  0.91764706 0.8509804\n",
      "  0.8509804  0.81960785 0.36078432 0.        ]\n",
      " [0.         0.         0.00392157 0.01568628 0.02352941 0.02745098\n",
      "  0.00784314 0.         0.         0.         0.         0.\n",
      "  0.92941177 0.8862745  0.8509804  0.8745098  0.87058824 0.85882354\n",
      "  0.87058824 0.8666667  0.84705883 0.8745098  0.8980392  0.84313726\n",
      "  0.85490197 1.         0.3019608  0.        ]\n",
      " [0.         0.01176471 0.         0.         0.         0.\n",
      "  0.         0.         0.         0.24313726 0.5686275  0.8\n",
      "  0.89411765 0.8117647  0.8352941  0.8666667  0.85490197 0.8156863\n",
      "  0.827451   0.85490197 0.8784314  0.8745098  0.85882354 0.84313726\n",
      "  0.8784314  0.95686275 0.62352943 0.        ]\n",
      " [0.         0.         0.         0.         0.07058824 0.17254902\n",
      "  0.32156864 0.41960785 0.7411765  0.89411765 0.8627451  0.87058824\n",
      "  0.8509804  0.8862745  0.78431374 0.8039216  0.827451   0.9019608\n",
      "  0.8784314  0.91764706 0.6901961  0.7372549  0.98039216 0.972549\n",
      "  0.9137255  0.93333334 0.84313726 0.        ]\n",
      " [0.         0.22352941 0.73333335 0.8156863  0.8784314  0.8666667\n",
      "  0.8784314  0.8156863  0.8        0.8392157  0.8156863  0.81960785\n",
      "  0.78431374 0.62352943 0.9607843  0.75686276 0.80784315 0.8745098\n",
      "  1.         1.         0.8666667  0.91764706 0.8666667  0.827451\n",
      "  0.8627451  0.9098039  0.9647059  0.        ]\n",
      " [0.01176471 0.7921569  0.89411765 0.8784314  0.8666667  0.827451\n",
      "  0.827451   0.8392157  0.8039216  0.8039216  0.8039216  0.8627451\n",
      "  0.9411765  0.3137255  0.5882353  1.         0.8980392  0.8666667\n",
      "  0.7372549  0.6039216  0.7490196  0.8235294  0.8        0.81960785\n",
      "  0.87058824 0.89411765 0.88235295 0.        ]\n",
      " [0.38431373 0.9137255  0.7764706  0.8235294  0.87058824 0.8980392\n",
      "  0.8980392  0.91764706 0.9764706  0.8627451  0.7607843  0.84313726\n",
      "  0.8509804  0.94509804 0.25490198 0.28627452 0.41568628 0.45882353\n",
      "  0.65882355 0.85882354 0.8666667  0.84313726 0.8509804  0.8745098\n",
      "  0.8745098  0.8784314  0.8980392  0.11372549]\n",
      " [0.29411766 0.8        0.83137256 0.8        0.75686276 0.8039216\n",
      "  0.827451   0.88235295 0.84705883 0.7254902  0.77254903 0.80784315\n",
      "  0.7764706  0.8352941  0.9411765  0.7647059  0.8901961  0.9607843\n",
      "  0.9372549  0.8745098  0.85490197 0.83137256 0.81960785 0.87058824\n",
      "  0.8627451  0.8666667  0.9019608  0.2627451 ]\n",
      " [0.1882353  0.79607844 0.7176471  0.7607843  0.8352941  0.77254903\n",
      "  0.7254902  0.74509805 0.7607843  0.7529412  0.7921569  0.8392157\n",
      "  0.85882354 0.8666667  0.8627451  0.9254902  0.88235295 0.84705883\n",
      "  0.78039217 0.80784315 0.7294118  0.70980394 0.69411767 0.6745098\n",
      "  0.70980394 0.8039216  0.80784315 0.4509804 ]\n",
      " [0.         0.47843137 0.85882354 0.75686276 0.7019608  0.67058825\n",
      "  0.7176471  0.76862746 0.8        0.8235294  0.8352941  0.8117647\n",
      "  0.827451   0.8235294  0.78431374 0.76862746 0.7607843  0.7490196\n",
      "  0.7647059  0.7490196  0.7764706  0.7529412  0.6901961  0.6117647\n",
      "  0.654902   0.69411767 0.8235294  0.36078432]\n",
      " [0.         0.         0.2901961  0.7411765  0.83137256 0.7490196\n",
      "  0.6862745  0.6745098  0.6862745  0.70980394 0.7254902  0.7372549\n",
      "  0.7411765  0.7372549  0.75686276 0.7764706  0.8        0.81960785\n",
      "  0.8235294  0.8235294  0.827451   0.7372549  0.7372549  0.7607843\n",
      "  0.7529412  0.84705883 0.6666667  0.        ]\n",
      " [0.00784314 0.         0.         0.         0.25882354 0.78431374\n",
      "  0.87058824 0.92941177 0.9372549  0.9490196  0.9647059  0.9529412\n",
      "  0.95686275 0.8666667  0.8627451  0.75686276 0.7490196  0.7019608\n",
      "  0.7137255  0.7137255  0.70980394 0.6901961  0.6509804  0.65882355\n",
      "  0.3882353  0.22745098 0.         0.        ]\n",
      " [0.         0.         0.         0.         0.         0.\n",
      "  0.         0.15686275 0.23921569 0.17254902 0.28235295 0.16078432\n",
      "  0.13725491 0.         0.         0.         0.         0.\n",
      "  0.         0.         0.         0.         0.         0.\n",
      "  0.         0.         0.         0.        ]\n",
      " [0.         0.         0.         0.         0.         0.\n",
      "  0.         0.         0.         0.         0.         0.\n",
      "  0.         0.         0.         0.         0.         0.\n",
      "  0.         0.         0.         0.         0.         0.\n",
      "  0.         0.         0.         0.        ]\n",
      " [0.         0.         0.         0.         0.         0.\n",
      "  0.         0.         0.         0.         0.         0.\n",
      "  0.         0.         0.         0.         0.         0.\n",
      "  0.         0.         0.         0.         0.         0.\n",
      "  0.         0.         0.         0.        ]]\n"
     ]
    }
   ],
   "source": [
    "print(x_train.shape)\n",
    "print(y_train.shape)\n",
    "print(x_test.shape)\n",
    "print(y_test.shape)\n",
    "print(x_train[0])"
   ]
  },
  {
   "cell_type": "code",
   "execution_count": 5,
   "metadata": {},
   "outputs": [
    {
     "data": {
      "text/plain": [
       "<matplotlib.image.AxesImage at 0x159ae9190>"
      ]
     },
     "execution_count": 5,
     "metadata": {},
     "output_type": "execute_result"
    },
    {
     "data": {
      "image/png": "[encoded data removed]",
      "text/plain": [
       "<Figure size 432x288 with 1 Axes>"
      ]
     },
     "metadata": {
      "needs_background": "light"
     },
     "output_type": "display_data"
    }
   ],
   "source": [
    "# sample image\n",
    "plt.imshow(x_train[0], cmap=plt.get_cmap('winter'))"
   ]
  },
  {
   "cell_type": "code",
   "execution_count": 6,
   "metadata": {},
   "outputs": [
    {
     "name": "stdout",
     "output_type": "stream",
     "text": [
      "(60000,)\n",
      "(28, 28, 1)\n"
     ]
    }
   ],
   "source": [
    "input_shape = (28, 28, 1)\n",
    "\n",
    "print(y_train.shape)\n",
    "print(input_shape)"
   ]
  },
  {
   "cell_type": "code",
   "execution_count": 7,
   "metadata": {},
   "outputs": [
    {
     "name": "stdout",
     "output_type": "stream",
     "text": [
      "Model: \"model\"\n",
      "_________________________________________________________________\n",
      "Layer (type)                 Output Shape              Param #   \n",
      "=================================================================\n",
      "input_1 (InputLayer)         [(None, 28, 28, 1)]       0         \n",
      "_________________________________________________________________\n",
      "conv2d (Conv2D)              (None, 26, 26, 32)        320       \n",
      "_________________________________________________________________\n",
      "conv2d_1 (Conv2D)            (None, 23, 23, 64)        32832     \n",
      "_________________________________________________________________\n",
      "max_pooling2d (MaxPooling2D) (None, 11, 11, 64)        0         \n",
      "_________________________________________________________________\n",
      "dropout (Dropout)            (None, 11, 11, 64)        0         \n",
      "_________________________________________________________________\n",
      "flatten (Flatten)            (None, 7744)              0         \n",
      "_________________________________________________________________\n",
      "dense (Dense)                (None, 128)               991360    \n",
      "_________________________________________________________________\n",
      "dropout_1 (Dropout)          (None, 128)               0         \n",
      "_________________________________________________________________\n",
      "dense_1 (Dense)              (None, 10)                1290      \n",
      "=================================================================\n",
      "Total params: 1,025,802\n",
      "Trainable params: 1,025,802\n",
      "Non-trainable params: 0\n",
      "_________________________________________________________________\n"
     ]
    }
   ],
   "source": [
    "# Initialize model\n",
    "output_dim = 10\n",
    "\n",
    "inp = Input(shape=input_shape)\n",
    "queue = Conv2D(filters=32, kernel_size=(3, 3), activation='relu')(inp)\n",
    "queue = Conv2D(filters=64, kernel_size=(4, 4), activation='relu')(queue)\n",
    "queue = MaxPool2D(pool_size=(2, 2))(queue)\n",
    "queue = Dropout(0.3)(queue)\n",
    "queue = Flatten()(queue)\n",
    "queue = Dense(units=128, activation='relu')(queue)\n",
    "queue = Dropout(0.2)(queue)\n",
    "queue = Dense(units=output_dim, activation='softmax')(queue)\n",
    "model = Model(inputs=inp, outputs=queue)\n",
    "model.summary()"
   ]
  },
  {
   "cell_type": "code",
   "execution_count": 8,
   "metadata": {},
   "outputs": [],
   "source": [
    "model.compile(optimizer='adam',\n",
    "              loss=\"sparse_categorical_crossentropy\",\n",
    "              metrics=['accuracy'])"
   ]
  },
  {
   "cell_type": "code",
   "execution_count": 9,
   "metadata": {},
   "outputs": [
    {
     "name": "stdout",
     "output_type": "stream",
     "text": [
      "Epoch 1/80\n",
      "480/480 [==============================] - 191s 397ms/step - loss: 0.4879 - accuracy: 0.8227 - val_loss: 0.3411 - val_accuracy: 0.8773\n",
      "Epoch 2/80\n",
      "480/480 [==============================] - 286s 597ms/step - loss: 0.3207 - accuracy: 0.8831 - val_loss: 0.2826 - val_accuracy: 0.8955\n",
      "Epoch 3/80\n",
      "480/480 [==============================] - 233s 485ms/step - loss: 0.2695 - accuracy: 0.8999 - val_loss: 0.2529 - val_accuracy: 0.9061\n",
      "Epoch 4/80\n",
      "480/480 [==============================] - 131s 273ms/step - loss: 0.2357 - accuracy: 0.9128 - val_loss: 0.2495 - val_accuracy: 0.9098\n",
      "Epoch 5/80\n",
      "480/480 [==============================] - 126s 262ms/step - loss: 0.2107 - accuracy: 0.9206 - val_loss: 0.2279 - val_accuracy: 0.9178\n",
      "Epoch 6/80\n",
      "480/480 [==============================] - 120s 249ms/step - loss: 0.1857 - accuracy: 0.9308 - val_loss: 0.2216 - val_accuracy: 0.9197\n",
      "Epoch 7/80\n",
      "480/480 [==============================] - 121s 253ms/step - loss: 0.1704 - accuracy: 0.9355 - val_loss: 0.2250 - val_accuracy: 0.9217\n",
      "Epoch 8/80\n",
      "480/480 [==============================] - 122s 255ms/step - loss: 0.1470 - accuracy: 0.9440 - val_loss: 0.2228 - val_accuracy: 0.9219\n",
      "Epoch 9/80\n",
      "480/480 [==============================] - 122s 253ms/step - loss: 0.1322 - accuracy: 0.9506 - val_loss: 0.2246 - val_accuracy: 0.9230\n",
      "Epoch 00009: early stopping\n"
     ]
    }
   ],
   "source": [
    "history = model.fit(x_train, y_train,\n",
    "                    batch_size=100,\n",
    "                    epochs=80,\n",
    "                    validation_split=0.2,\n",
    "                    callbacks=[EarlyStopping(monitor='val_loss', patience=3,\n",
    "                                             verbose=1, mode='min')])"
   ]
  },
  {
   "cell_type": "code",
   "execution_count": 10,
   "metadata": {},
   "outputs": [
    {
     "name": "stdout",
     "output_type": "stream",
     "text": [
      "313/313 [==============================] - 6s 20ms/step - loss: 0.2332 - accuracy: 0.9192\n",
      "The model final accuracy on test set is 91.92%\n"
     ]
    }
   ],
   "source": [
    "final_loss, final_accuracy = model.evaluate(x_test, y_test)\n",
    "print(f'The model final accuracy on test set is {final_accuracy:.2%}')"
   ]
  },
  {
   "cell_type": "code",
   "execution_count": 13,
   "metadata": {},
   "outputs": [
    {
     "data": {
      "text/plain": [
       "<matplotlib.legend.Legend at 0x14e005610>"
      ]
     },
     "execution_count": 13,
     "metadata": {},
     "output_type": "execute_result"
    },
    {
     "data": {
      "image/png": "[encoded data removed]",
      "text/plain": [
       "<Figure size 1008x360 with 2 Axes>"
      ]
     },
     "metadata": {
      "needs_background": "light"
     },
     "output_type": "display_data"
    }
   ],
   "source": [
    "# visualize execution\n",
    "import matplotlib.pyplot as plt\n",
    "%matplotlib inline\n",
    "\n",
    "fig, (ax1, ax2) = plt.subplots(nrows=1, ncols=2, figsize=(14, 5))\n",
    "ax1.plot(history.history['loss'], label='Train Loss')\n",
    "ax1.plot(history.history['val_loss'], label='Validation Loss')\n",
    "ax1.legend()\n",
    "ax2.plot(history.history['accuracy'], label='Train Accuracy')\n",
    "ax2.plot(history.history['val_accuracy'], label='Validation Accuracy')\n",
    "ax2.legend()"
   ]
  },
  {
   "cell_type": "code",
   "execution_count": 14,
   "metadata": {},
   "outputs": [
    {
     "name": "stdout",
     "output_type": "stream",
     "text": [
      "Saved model to disk\n"
     ]
    }
   ],
   "source": [
    "# serialize model to JSON\n",
    "model_json = model.to_json()\n",
    "with open(\"mnist_fashion_cnn.json\", \"w\") as json_file:\n",
    "    json_file.write(model_json)\n",
    "\n",
    "# serialize weights to HDF5\n",
    "model.save_weights(\"mnist_fashion_cnn.h5\")\n",
    "print(\"Saved model to disk\")"
   ]
  }
 ],
 "metadata": {
  "kernelspec": {
   "display_name": "Python 3",
   "language": "python",
   "name": "python3"
  },
  "language_info": {
   "codemirror_mode": {
    "name": "ipython",
    "version": 3
   },
   "file_extension": ".py",
   "mimetype": "text/x-python",
   "name": "python",
   "nbconvert_exporter": "python",
   "pygments_lexer": "ipython3",
   "version": "3.7.4"
  }
 },
 "nbformat": 4,
 "nbformat_minor": 4
}
