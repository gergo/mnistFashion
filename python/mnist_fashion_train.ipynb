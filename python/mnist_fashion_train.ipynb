{
 "cells": [
  {
   "cell_type": "markdown",
   "metadata": {},
   "source": [
    "<img src=\"./pics/DL.png\" width=110 align=\"left\" style=\"margin-right: 10px\">\n",
    "\n",
    "# Introduction to Deep Learning\n",
    "\n",
    "## 10. Home Assignment II.\n",
    "\n",
    "---"
   ]
  },
  {
   "cell_type": "markdown",
   "metadata": {},
   "source": [
    "## B) Fashion MNIST\n",
    "\n",
    "<img src=\"./pics/exercises/fashion.gif\" width=400>\n",
    "\n",
    "Build a convolutional network to classify the fashion mnist dataset. Build a function which will predict the class for an image. The function will get a path of an image as a parameter, it reads the image then returns the predicted class. You can assume that the path will always contain an image, which has *28 x 28 x 4* dimensions.\n",
    "\n",
    "The dataset is available in [keras](https://keras.io/datasets/#fashion-mnist-database-of-fashion-articles). An example image is available at `data/fashion/test.png`."
   ]
  },
  {
   "cell_type": "code",
   "execution_count": 1,
   "metadata": {},
   "outputs": [
    {
     "name": "stderr",
     "output_type": "stream",
     "text": [
      "Using TensorFlow backend.\n"
     ]
    }
   ],
   "source": [
    "import matplotlib.pyplot as plt\n",
    "import numpy as np\n",
    "import pandas as pd\n",
    "import tensorflow as tf\n",
    "\n",
    "from keras.models import Sequential\n",
    "from keras.wrappers.scikit_learn import KerasClassifier\n",
    "from keras.optimizers import adam, RMSprop\n",
    "\n",
    "from tensorflow.keras.layers import Input, Dropout, Flatten, Conv2D, MaxPooling2D, MaxPool2D, Dense, Activation, Reshape\n",
    "from tensorflow.keras.models import Model, Sequential\n",
    "from tensorflow.keras.callbacks import ModelCheckpoint, Callback, EarlyStopping\n",
    "from keras.utils import np_utils\n",
    "\n",
    "from numpy.random import seed\n",
    "\n",
    "from sklearn.datasets import load_digits\n",
    "from sklearn.model_selection import train_test_split"
   ]
  },
  {
   "cell_type": "code",
   "execution_count": 2,
   "metadata": {},
   "outputs": [],
   "source": [
    "# set random seeds for reproducibility\n",
    "tf.random.set_seed(42)\n",
    "seed(42)"
   ]
  },
  {
   "cell_type": "code",
   "execution_count": 3,
   "metadata": {},
   "outputs": [],
   "source": [
    "# download dataset and rescale to 0-1\n",
    "(x_train, y_train), (x_test, y_test) = tf.keras.datasets.fashion_mnist.load_data()\n",
    "x_train = x_train.astype('float32') / 255.0\n",
    "x_test = x_test.astype('float32') / 255.0"
   ]
  },
  {
   "cell_type": "code",
   "execution_count": 4,
   "metadata": {},
   "outputs": [
    {
     "name": "stdout",
     "output_type": "stream",
     "text": [
      "(60000, 28, 28)\n",
      "(60000,)\n",
      "(10000, 28, 28)\n",
      "(10000,)\n",
      "[[0.         0.         0.         0.         0.         0.\n",
      "  0.         0.         0.         0.         0.         0.\n",
      "  0.         0.         0.         0.         0.         0.\n",
      "  0.         0.         0.         0.         0.         0.\n",
      "  0.         0.         0.         0.        ]\n",
      " [0.         0.         0.         0.         0.         0.\n",
      "  0.         0.         0.         0.         0.         0.\n",
      "  0.         0.         0.         0.         0.         0.\n",
      "  0.         0.         0.         0.         0.         0.\n",
      "  0.         0.         0.         0.        ]\n",
      " [0.         0.         0.         0.         0.         0.\n",
      "  0.         0.         0.         0.         0.         0.\n",
      "  0.         0.         0.         0.         0.         0.\n",
      "  0.         0.         0.         0.         0.         0.\n",
      "  0.         0.         0.         0.        ]\n",
      " [0.         0.         0.         0.         0.         0.\n",
      "  0.         0.         0.         0.         0.         0.\n",
      "  0.00392157 0.         0.         0.05098039 0.28627452 0.\n",
      "  0.         0.00392157 0.01568628 0.         0.         0.\n",
      "  0.         0.00392157 0.00392157 0.        ]\n",
      " [0.         0.         0.         0.         0.         0.\n",
      "  0.         0.         0.         0.         0.         0.\n",
      "  0.01176471 0.         0.14117648 0.53333336 0.49803922 0.24313726\n",
      "  0.21176471 0.         0.         0.         0.00392157 0.01176471\n",
      "  0.01568628 0.         0.         0.01176471]\n",
      " [0.         0.         0.         0.         0.         0.\n",
      "  0.         0.         0.         0.         0.         0.\n",
      "  0.02352941 0.         0.4        0.8        0.6901961  0.5254902\n",
      "  0.5647059  0.48235294 0.09019608 0.         0.         0.\n",
      "  0.         0.04705882 0.03921569 0.        ]\n",
      " [0.         0.         0.         0.         0.         0.\n",
      "  0.         0.         0.         0.         0.         0.\n",
      "  0.         0.         0.60784316 0.9254902  0.8117647  0.69803923\n",
      "  0.41960785 0.6117647  0.6313726  0.42745098 0.2509804  0.09019608\n",
      "  0.3019608  0.50980395 0.28235295 0.05882353]\n",
      " [0.         0.         0.         0.         0.         0.\n",
      "  0.         0.         0.         0.         0.         0.00392157\n",
      "  0.         0.27058825 0.8117647  0.8745098  0.85490197 0.84705883\n",
      "  0.84705883 0.6392157  0.49803922 0.4745098  0.47843137 0.57254905\n",
      "  0.5529412  0.34509805 0.6745098  0.25882354]\n",
      " [0.         0.         0.         0.         0.         0.\n",
      "  0.         0.         0.         0.00392157 0.00392157 0.00392157\n",
      "  0.         0.78431374 0.9098039  0.9098039  0.9137255  0.8980392\n",
      "  0.8745098  0.8745098  0.84313726 0.8352941  0.6431373  0.49803922\n",
      "  0.48235294 0.76862746 0.8980392  0.        ]\n",
      " [0.         0.         0.         0.         0.         0.\n",
      "  0.         0.         0.         0.         0.         0.\n",
      "  0.         0.7176471  0.88235295 0.84705883 0.8745098  0.89411765\n",
      "  0.92156863 0.8901961  0.8784314  0.87058824 0.8784314  0.8666667\n",
      "  0.8745098  0.9607843  0.6784314  0.        ]\n",
      " [0.         0.         0.         0.         0.         0.\n",
      "  0.         0.         0.         0.         0.         0.\n",
      "  0.         0.75686276 0.89411765 0.85490197 0.8352941  0.7764706\n",
      "  0.7058824  0.83137256 0.8235294  0.827451   0.8352941  0.8745098\n",
      "  0.8627451  0.9529412  0.7921569  0.        ]\n",
      " [0.         0.         0.         0.         0.         0.\n",
      "  0.         0.         0.         0.00392157 0.01176471 0.\n",
      "  0.04705882 0.85882354 0.8627451  0.83137256 0.85490197 0.7529412\n",
      "  0.6627451  0.8901961  0.8156863  0.85490197 0.8784314  0.83137256\n",
      "  0.8862745  0.77254903 0.81960785 0.20392157]\n",
      " [0.         0.         0.         0.         0.         0.\n",
      "  0.         0.         0.         0.         0.02352941 0.\n",
      "  0.3882353  0.95686275 0.87058824 0.8627451  0.85490197 0.79607844\n",
      "  0.7764706  0.8666667  0.84313726 0.8352941  0.87058824 0.8627451\n",
      "  0.9607843  0.46666667 0.654902   0.21960784]\n",
      " [0.         0.         0.         0.         0.         0.\n",
      "  0.         0.         0.         0.01568628 0.         0.\n",
      "  0.21568628 0.9254902  0.89411765 0.9019608  0.89411765 0.9411765\n",
      "  0.9098039  0.8352941  0.85490197 0.8745098  0.91764706 0.8509804\n",
      "  0.8509804  0.81960785 0.36078432 0.        ]\n",
      " [0.         0.         0.00392157 0.01568628 0.02352941 0.02745098\n",
      "  0.00784314 0.         0.         0.         0.         0.\n",
      "  0.92941177 0.8862745  0.8509804  0.8745098  0.87058824 0.85882354\n",
      "  0.87058824 0.8666667  0.84705883 0.8745098  0.8980392  0.84313726\n",
      "  0.85490197 1.         0.3019608  0.        ]\n",
      " [0.         0.01176471 0.         0.         0.         0.\n",
      "  0.         0.         0.         0.24313726 0.5686275  0.8\n",
      "  0.89411765 0.8117647  0.8352941  0.8666667  0.85490197 0.8156863\n",
      "  0.827451   0.85490197 0.8784314  0.8745098  0.85882354 0.84313726\n",
      "  0.8784314  0.95686275 0.62352943 0.        ]\n",
      " [0.         0.         0.         0.         0.07058824 0.17254902\n",
      "  0.32156864 0.41960785 0.7411765  0.89411765 0.8627451  0.87058824\n",
      "  0.8509804  0.8862745  0.78431374 0.8039216  0.827451   0.9019608\n",
      "  0.8784314  0.91764706 0.6901961  0.7372549  0.98039216 0.972549\n",
      "  0.9137255  0.93333334 0.84313726 0.        ]\n",
      " [0.         0.22352941 0.73333335 0.8156863  0.8784314  0.8666667\n",
      "  0.8784314  0.8156863  0.8        0.8392157  0.8156863  0.81960785\n",
      "  0.78431374 0.62352943 0.9607843  0.75686276 0.80784315 0.8745098\n",
      "  1.         1.         0.8666667  0.91764706 0.8666667  0.827451\n",
      "  0.8627451  0.9098039  0.9647059  0.        ]\n",
      " [0.01176471 0.7921569  0.89411765 0.8784314  0.8666667  0.827451\n",
      "  0.827451   0.8392157  0.8039216  0.8039216  0.8039216  0.8627451\n",
      "  0.9411765  0.3137255  0.5882353  1.         0.8980392  0.8666667\n",
      "  0.7372549  0.6039216  0.7490196  0.8235294  0.8        0.81960785\n",
      "  0.87058824 0.89411765 0.88235295 0.        ]\n",
      " [0.38431373 0.9137255  0.7764706  0.8235294  0.87058824 0.8980392\n",
      "  0.8980392  0.91764706 0.9764706  0.8627451  0.7607843  0.84313726\n",
      "  0.8509804  0.94509804 0.25490198 0.28627452 0.41568628 0.45882353\n",
      "  0.65882355 0.85882354 0.8666667  0.84313726 0.8509804  0.8745098\n",
      "  0.8745098  0.8784314  0.8980392  0.11372549]\n",
      " [0.29411766 0.8        0.83137256 0.8        0.75686276 0.8039216\n",
      "  0.827451   0.88235295 0.84705883 0.7254902  0.77254903 0.80784315\n",
      "  0.7764706  0.8352941  0.9411765  0.7647059  0.8901961  0.9607843\n",
      "  0.9372549  0.8745098  0.85490197 0.83137256 0.81960785 0.87058824\n",
      "  0.8627451  0.8666667  0.9019608  0.2627451 ]\n",
      " [0.1882353  0.79607844 0.7176471  0.7607843  0.8352941  0.77254903\n",
      "  0.7254902  0.74509805 0.7607843  0.7529412  0.7921569  0.8392157\n",
      "  0.85882354 0.8666667  0.8627451  0.9254902  0.88235295 0.84705883\n",
      "  0.78039217 0.80784315 0.7294118  0.70980394 0.69411767 0.6745098\n",
      "  0.70980394 0.8039216  0.80784315 0.4509804 ]\n",
      " [0.         0.47843137 0.85882354 0.75686276 0.7019608  0.67058825\n",
      "  0.7176471  0.76862746 0.8        0.8235294  0.8352941  0.8117647\n",
      "  0.827451   0.8235294  0.78431374 0.76862746 0.7607843  0.7490196\n",
      "  0.7647059  0.7490196  0.7764706  0.7529412  0.6901961  0.6117647\n",
      "  0.654902   0.69411767 0.8235294  0.36078432]\n",
      " [0.         0.         0.2901961  0.7411765  0.83137256 0.7490196\n",
      "  0.6862745  0.6745098  0.6862745  0.70980394 0.7254902  0.7372549\n",
      "  0.7411765  0.7372549  0.75686276 0.7764706  0.8        0.81960785\n",
      "  0.8235294  0.8235294  0.827451   0.7372549  0.7372549  0.7607843\n",
      "  0.7529412  0.84705883 0.6666667  0.        ]\n",
      " [0.00784314 0.         0.         0.         0.25882354 0.78431374\n",
      "  0.87058824 0.92941177 0.9372549  0.9490196  0.9647059  0.9529412\n",
      "  0.95686275 0.8666667  0.8627451  0.75686276 0.7490196  0.7019608\n",
      "  0.7137255  0.7137255  0.70980394 0.6901961  0.6509804  0.65882355\n",
      "  0.3882353  0.22745098 0.         0.        ]\n",
      " [0.         0.         0.         0.         0.         0.\n",
      "  0.         0.15686275 0.23921569 0.17254902 0.28235295 0.16078432\n",
      "  0.13725491 0.         0.         0.         0.         0.\n",
      "  0.         0.         0.         0.         0.         0.\n",
      "  0.         0.         0.         0.        ]\n",
      " [0.         0.         0.         0.         0.         0.\n",
      "  0.         0.         0.         0.         0.         0.\n",
      "  0.         0.         0.         0.         0.         0.\n",
      "  0.         0.         0.         0.         0.         0.\n",
      "  0.         0.         0.         0.        ]\n",
      " [0.         0.         0.         0.         0.         0.\n",
      "  0.         0.         0.         0.         0.         0.\n",
      "  0.         0.         0.         0.         0.         0.\n",
      "  0.         0.         0.         0.         0.         0.\n",
      "  0.         0.         0.         0.        ]]\n"
     ]
    }
   ],
   "source": [
    "print(x_train.shape)\n",
    "print(y_train.shape)\n",
    "print(x_test.shape)\n",
    "print(y_test.shape)\n",
    "print(x_train[0])"
   ]
  },
  {
   "cell_type": "code",
   "execution_count": 5,
   "metadata": {},
   "outputs": [
    {
     "data": {
      "text/plain": [
       "<matplotlib.image.AxesImage at 0x14d1ba2d0>"
      ]
     },
     "execution_count": 5,
     "metadata": {},
     "output_type": "execute_result"
    },
    {
     "data": {
      "image/png": "[encoded data removed]",
      "text/plain": [
       "<Figure size 432x288 with 1 Axes>"
      ]
     },
     "metadata": {
      "needs_background": "light"
     },
     "output_type": "display_data"
    }
   ],
   "source": [
    "# sample image\n",
    "plt.imshow(x_train[0], cmap=plt.get_cmap('winter'))"
   ]
  },
  {
   "cell_type": "code",
   "execution_count": 6,
   "metadata": {},
   "outputs": [
    {
     "name": "stdout",
     "output_type": "stream",
     "text": [
      "(60000,)\n",
      "(28, 28, 1)\n"
     ]
    }
   ],
   "source": [
    "input_shape = (28, 28, 1)\n",
    "\n",
    "print(y_train.shape)\n",
    "print(input_shape)"
   ]
  },
  {
   "cell_type": "code",
   "execution_count": 7,
   "metadata": {},
   "outputs": [
    {
     "name": "stdout",
     "output_type": "stream",
     "text": [
      "Model: \"model\"\n",
      "_________________________________________________________________\n",
      "Layer (type)                 Output Shape              Param #   \n",
      "=================================================================\n",
      "input_1 (InputLayer)         [(None, 28, 28, 1)]       0         \n",
      "_________________________________________________________________\n",
      "conv2d (Conv2D)              (None, 26, 26, 32)        320       \n",
      "_________________________________________________________________\n",
      "conv2d_1 (Conv2D)            (None, 23, 23, 64)        32832     \n",
      "_________________________________________________________________\n",
      "max_pooling2d (MaxPooling2D) (None, 11, 11, 64)        0         \n",
      "_________________________________________________________________\n",
      "dropout (Dropout)            (None, 11, 11, 64)        0         \n",
      "_________________________________________________________________\n",
      "flatten (Flatten)            (None, 7744)              0         \n",
      "_________________________________________________________________\n",
      "dense (Dense)                (None, 128)               991360    \n",
      "_________________________________________________________________\n",
      "dropout_1 (Dropout)          (None, 128)               0         \n",
      "_________________________________________________________________\n",
      "dense_1 (Dense)              (None, 10)                1290      \n",
      "=================================================================\n",
      "Total params: 1,025,802\n",
      "Trainable params: 1,025,802\n",
      "Non-trainable params: 0\n",
      "_________________________________________________________________\n"
     ]
    }
   ],
   "source": [
    "# Initialize model\n",
    "output_dim = 10\n",
    "\n",
    "inp = Input(shape=input_shape)\n",
    "queue = Conv2D(filters=32, kernel_size=(3, 3), activation='relu')(inp)\n",
    "queue = Conv2D(filters=64, kernel_size=(4, 4), activation='relu')(queue)\n",
    "queue = MaxPool2D(pool_size=(2, 2))(queue)\n",
    "queue = Dropout(0.3)(queue)\n",
    "queue = Flatten()(queue)\n",
    "queue = Dense(units=128, activation='relu')(queue)\n",
    "queue = Dropout(0.2)(queue)\n",
    "queue = Dense(units=output_dim, activation='softmax')(queue)\n",
    "model = Model(inputs=inp, outputs=queue)\n",
    "model.summary()"
   ]
  },
  {
   "cell_type": "code",
   "execution_count": 8,
   "metadata": {},
   "outputs": [],
   "source": [
    "model.compile(optimizer='adam',\n",
    "              loss=\"sparse_categorical_crossentropy\",\n",
    "              metrics=['accuracy'])"
   ]
  },
  {
   "cell_type": "code",
   "execution_count": 9,
   "metadata": {},
   "outputs": [
    {
     "name": "stdout",
     "output_type": "stream",
     "text": [
      "Epoch 1/80\n",
      "480/480 [==============================] - 132s 275ms/step - loss: 0.4879 - accuracy: 0.8227 - val_loss: 0.3411 - val_accuracy: 0.8773\n",
      "Epoch 2/80\n",
      "480/480 [==============================] - 129s 270ms/step - loss: 0.3207 - accuracy: 0.8831 - val_loss: 0.2826 - val_accuracy: 0.8955\n",
      "Epoch 3/80\n",
      "480/480 [==============================] - 132s 275ms/step - loss: 0.2695 - accuracy: 0.8999 - val_loss: 0.2529 - val_accuracy: 0.9061\n",
      "Epoch 4/80\n",
      "480/480 [==============================] - 132s 275ms/step - loss: 0.2357 - accuracy: 0.9128 - val_loss: 0.2495 - val_accuracy: 0.9098\n",
      "Epoch 5/80\n",
      "480/480 [==============================] - 141s 294ms/step - loss: 0.2107 - accuracy: 0.9206 - val_loss: 0.2279 - val_accuracy: 0.9178\n",
      "Epoch 6/80\n",
      "480/480 [==============================] - 126s 262ms/step - loss: 0.1857 - accuracy: 0.9308 - val_loss: 0.2216 - val_accuracy: 0.9197\n",
      "Epoch 7/80\n",
      "480/480 [==============================] - 128s 267ms/step - loss: 0.1704 - accuracy: 0.9355 - val_loss: 0.2250 - val_accuracy: 0.9217\n",
      "Epoch 8/80\n",
      "480/480 [==============================] - 136s 284ms/step - loss: 0.1470 - accuracy: 0.9440 - val_loss: 0.2228 - val_accuracy: 0.9219\n",
      "Epoch 9/80\n",
      "480/480 [==============================] - 132s 275ms/step - loss: 0.1322 - accuracy: 0.9506 - val_loss: 0.2246 - val_accuracy: 0.9230\n",
      "Epoch 10/80\n",
      "480/480 [==============================] - 126s 262ms/step - loss: 0.1199 - accuracy: 0.9551 - val_loss: 0.2267 - val_accuracy: 0.9237\n",
      "Epoch 11/80\n",
      "480/480 [==============================] - 125s 261ms/step - loss: 0.1068 - accuracy: 0.9601 - val_loss: 0.2404 - val_accuracy: 0.9219\n",
      "Epoch 12/80\n",
      "480/480 [==============================] - 148s 308ms/step - loss: 0.0999 - accuracy: 0.9618 - val_loss: 0.2449 - val_accuracy: 0.9222\n",
      "Epoch 13/80\n",
      "480/480 [==============================] - 129s 269ms/step - loss: 0.0890 - accuracy: 0.9666 - val_loss: 0.2786 - val_accuracy: 0.9180\n",
      "Epoch 14/80\n",
      "480/480 [==============================] - 118s 245ms/step - loss: 0.0833 - accuracy: 0.9696 - val_loss: 0.2656 - val_accuracy: 0.9204\n",
      "Epoch 15/80\n",
      "480/480 [==============================] - 117s 243ms/step - loss: 0.0718 - accuracy: 0.9733 - val_loss: 0.2657 - val_accuracy: 0.9237\n",
      "Epoch 16/80\n",
      "480/480 [==============================] - 119s 248ms/step - loss: 0.0692 - accuracy: 0.9743 - val_loss: 0.2793 - val_accuracy: 0.9239\n",
      "Epoch 00016: early stopping\n"
     ]
    }
   ],
   "source": [
    "history = model.fit(x_train, y_train,\n",
    "                    batch_size=100,\n",
    "                    epochs=80,\n",
    "                    validation_split=0.2,\n",
    "                    callbacks=[EarlyStopping(monitor='val_loss', patience=10,\n",
    "                                             verbose=1, mode='min')])"
   ]
  },
  {
   "cell_type": "code",
   "execution_count": 10,
   "metadata": {},
   "outputs": [
    {
     "name": "stdout",
     "output_type": "stream",
     "text": [
      "313/313 [==============================] - 6s 20ms/step - loss: 0.2923 - accuracy: 0.9204\n",
      "The model final accuracy on test set is 92.04%\n"
     ]
    }
   ],
   "source": [
    "final_loss, final_accuracy = model.evaluate(x_test, y_test)\n",
    "print(f'The model final accuracy on test set is {final_accuracy:.2%}')"
   ]
  },
  {
   "cell_type": "code",
   "execution_count": 11,
   "metadata": {},
   "outputs": [
    {
     "data": {
      "text/plain": [
       "<matplotlib.legend.Legend at 0x14d86f090>"
      ]
     },
     "execution_count": 11,
     "metadata": {},
     "output_type": "execute_result"
    },
    {
     "data": {
      "image/png": "[encoded data removed]",
      "text/plain": [
       "<Figure size 1008x360 with 2 Axes>"
      ]
     },
     "metadata": {
      "needs_background": "light"
     },
     "output_type": "display_data"
    }
   ],
   "source": [
    "# visualize execution\n",
    "import matplotlib.pyplot as plt\n",
    "%matplotlib inline\n",
    "\n",
    "fig, (ax1, ax2) = plt.subplots(nrows=1, ncols=2, figsize=(14, 5))\n",
    "ax1.plot(history.history['loss'], label='Train Loss')\n",
    "ax1.plot(history.history['val_loss'], label='Validation Loss')\n",
    "ax1.legend()\n",
    "ax2.plot(history.history['accuracy'], label='Train Accuracy')\n",
    "ax2.plot(history.history['val_accuracy'], label='Validation Accuracy')\n",
    "ax2.legend()"
   ]
  },
  {
   "cell_type": "code",
   "execution_count": 12,
   "metadata": {},
   "outputs": [
    {
     "name": "stdout",
     "output_type": "stream",
     "text": [
      "Saved model to disk\n"
     ]
    }
   ],
   "source": [
    "# serialize model to JSON\n",
    "model_json = model.to_json()\n",
    "with open(\"mnist_fashion_cnn.json\", \"w\") as json_file:\n",
    "    json_file.write(model_json)\n",
    "\n",
    "# serialize weights to HDF5\n",
    "model.save_weights(\"mnist_fashion_cnn.h5\")\n",
    "print(\"Saved model to disk\")"
   ]
  },
  {
   "cell_type": "code",
   "execution_count": 13,
   "metadata": {},
   "outputs": [
    {
     "data": {
      "text/plain": [
       "10"
      ]
     },
     "execution_count": 13,
     "metadata": {},
     "output_type": "execute_result"
    }
   ],
   "source": [
    "# Pre-trained model\n",
    "classes = np.unique(y_train)\n",
    "num_classes = len(classes)\n",
    "num_classes"
   ]
  },
  {
   "cell_type": "code",
   "execution_count": 14,
   "metadata": {},
   "outputs": [
    {
     "data": {
      "text/plain": [
       "((60000, 28, 28), (10000, 28, 28))"
      ]
     },
     "execution_count": 14,
     "metadata": {},
     "output_type": "execute_result"
    }
   ],
   "source": [
    "x_train.shape, x_test.shape"
   ]
  },
  {
   "cell_type": "code",
   "execution_count": 15,
   "metadata": {},
   "outputs": [
    {
     "data": {
      "text/plain": [
       "((60000, 28, 28, 3), (10000, 28, 28, 3))"
      ]
     },
     "execution_count": 15,
     "metadata": {},
     "output_type": "execute_result"
    }
   ],
   "source": [
    "train_X=np.dstack([x_train] * 3)\n",
    "test_X=np.dstack([x_test] * 3)\n",
    "train_X = train_X.reshape(-1, 28,28,3)\n",
    "test_X= test_X.reshape (-1,28,28,3)\n",
    "train_X.shape,test_X.shape"
   ]
  },
  {
   "cell_type": "code",
   "execution_count": 16,
   "metadata": {},
   "outputs": [
    {
     "data": {
      "text/plain": [
       "((60000, 48, 48, 3), (10000, 48, 48, 3))"
      ]
     },
     "execution_count": 16,
     "metadata": {},
     "output_type": "execute_result"
    }
   ],
   "source": [
    "# Resize the images 48*48 as required by VGG16\n",
    "from keras.preprocessing.image import img_to_array, array_to_img\n",
    "train_X = np.asarray([img_to_array(array_to_img(im, scale=False).resize((48,48))) for im in train_X])\n",
    "test_X = np.asarray([img_to_array(array_to_img(im, scale=False).resize((48,48))) for im in test_X])\n",
    "train_X.shape, test_X.shape"
   ]
  },
  {
   "cell_type": "code",
   "execution_count": 18,
   "metadata": {},
   "outputs": [],
   "source": [
    "from keras.utils import to_categorical\n",
    "train_Y_one_hot = to_categorical(y_train)\n",
    "test_Y_one_hot = to_categorical(y_test)"
   ]
  },
  {
   "cell_type": "code",
   "execution_count": 19,
   "metadata": {},
   "outputs": [],
   "source": [
    "train_X,valid_X,train_label,valid_label = train_test_split(train_X,\n",
    "                                                           train_Y_one_hot,\n",
    "                                                           test_size=0.2,\n",
    "                                                           random_state=42\n",
    "                                                           )"
   ]
  },
  {
   "cell_type": "code",
   "execution_count": 20,
   "metadata": {},
   "outputs": [
    {
     "data": {
      "text/plain": [
       "((48000, 48, 48, 3), (12000, 48, 48, 3), (48000, 10), (12000, 10))"
      ]
     },
     "execution_count": 20,
     "metadata": {},
     "output_type": "execute_result"
    }
   ],
   "source": [
    "train_X.shape,valid_X.shape,train_label.shape,valid_label.shape"
   ]
  },
  {
   "cell_type": "code",
   "execution_count": 21,
   "metadata": {},
   "outputs": [],
   "source": [
    "# Define parameters for VGG16\n",
    "IMG_WIDTH = 48\n",
    "IMG_HEIGHT = 48\n",
    "IMG_DEPTH = 3\n",
    "BATCH_SIZE = 16"
   ]
  },
  {
   "cell_type": "code",
   "execution_count": 23,
   "metadata": {},
   "outputs": [],
   "source": [
    "# Preprocessing the input \n",
    "from keras.applications import VGG16;\n",
    "from keras.applications.vgg16 import preprocess_input\n",
    "\n",
    "train_X = preprocess_input(train_X)\n",
    "valid_X = preprocess_input(valid_X)\n",
    "test_X  = preprocess_input (test_X)"
   ]
  },
  {
   "cell_type": "code",
   "execution_count": 24,
   "metadata": {},
   "outputs": [
    {
     "data": {
      "text/plain": [
       "('vgg16_model.h5', <http.client.HTTPMessage at 0x1413ce050>)"
      ]
     },
     "execution_count": 24,
     "metadata": {},
     "output_type": "execute_result"
    }
   ],
   "source": [
    "# Create base model of VGG16\n",
    "import urllib.request\n",
    "urllib.request.urlretrieve(\"https://github.com/fchollet/deep-learning-models/releases/download/v0.1/vgg16_weights_tf_dim_ordering_tf_kernels_notop.h5\", \"vgg16_model.h5\")"
   ]
  },
  {
   "cell_type": "code",
   "execution_count": 25,
   "metadata": {},
   "outputs": [
    {
     "name": "stdout",
     "output_type": "stream",
     "text": [
      "Model: \"vgg16\"\n",
      "_________________________________________________________________\n",
      "Layer (type)                 Output Shape              Param #   \n",
      "=================================================================\n",
      "input_2 (InputLayer)         (None, 48, 48, 3)         0         \n",
      "_________________________________________________________________\n",
      "block1_conv1 (Conv2D)        (None, 48, 48, 64)        1792      \n",
      "_________________________________________________________________\n",
      "block1_conv2 (Conv2D)        (None, 48, 48, 64)        36928     \n",
      "_________________________________________________________________\n",
      "block1_pool (MaxPooling2D)   (None, 24, 24, 64)        0         \n",
      "_________________________________________________________________\n",
      "block2_conv1 (Conv2D)        (None, 24, 24, 128)       73856     \n",
      "_________________________________________________________________\n",
      "block2_conv2 (Conv2D)        (None, 24, 24, 128)       147584    \n",
      "_________________________________________________________________\n",
      "block2_pool (MaxPooling2D)   (None, 12, 12, 128)       0         \n",
      "_________________________________________________________________\n",
      "block3_conv1 (Conv2D)        (None, 12, 12, 256)       295168    \n",
      "_________________________________________________________________\n",
      "block3_conv2 (Conv2D)        (None, 12, 12, 256)       590080    \n",
      "_________________________________________________________________\n",
      "block3_conv3 (Conv2D)        (None, 12, 12, 256)       590080    \n",
      "_________________________________________________________________\n",
      "block3_pool (MaxPooling2D)   (None, 6, 6, 256)         0         \n",
      "_________________________________________________________________\n",
      "block4_conv1 (Conv2D)        (None, 6, 6, 512)         1180160   \n",
      "_________________________________________________________________\n",
      "block4_conv2 (Conv2D)        (None, 6, 6, 512)         2359808   \n",
      "_________________________________________________________________\n",
      "block4_conv3 (Conv2D)        (None, 6, 6, 512)         2359808   \n",
      "_________________________________________________________________\n",
      "block4_pool (MaxPooling2D)   (None, 3, 3, 512)         0         \n",
      "_________________________________________________________________\n",
      "block5_conv1 (Conv2D)        (None, 3, 3, 512)         2359808   \n",
      "_________________________________________________________________\n",
      "block5_conv2 (Conv2D)        (None, 3, 3, 512)         2359808   \n",
      "_________________________________________________________________\n",
      "block5_conv3 (Conv2D)        (None, 3, 3, 512)         2359808   \n",
      "_________________________________________________________________\n",
      "block5_pool (MaxPooling2D)   (None, 1, 1, 512)         0         \n",
      "=================================================================\n",
      "Total params: 14,714,688\n",
      "Trainable params: 14,714,688\n",
      "Non-trainable params: 0\n",
      "_________________________________________________________________\n"
     ]
    }
   ],
   "source": [
    "conv_base = VGG16(weights='vgg16_model.h5',\n",
    "                  include_top=False, \n",
    "                  input_shape=(IMG_HEIGHT, IMG_WIDTH, IMG_DEPTH)\n",
    "                 )\n",
    "conv_base.summary()"
   ]
  },
  {
   "cell_type": "code",
   "execution_count": 26,
   "metadata": {},
   "outputs": [
    {
     "name": "stdout",
     "output_type": "stream",
     "text": [
      "48000/48000 [==============================] - 720s 15ms/step\n",
      "10000/10000 [==============================] - 147s 15ms/step\n",
      "12000/12000 [==============================] - 183s 15ms/step\n"
     ]
    }
   ],
   "source": [
    "# Extracting features\n",
    "train_features = conv_base.predict(np.array(train_X), batch_size=BATCH_SIZE, verbose=1)\n",
    "test_features = conv_base.predict(np.array(test_X), batch_size=BATCH_SIZE, verbose=1)\n",
    "val_features = conv_base.predict(np.array(valid_X), batch_size=BATCH_SIZE, verbose=1)"
   ]
  },
  {
   "cell_type": "code",
   "execution_count": 28,
   "metadata": {},
   "outputs": [],
   "source": [
    "# Saving the features\n",
    "np.savez(\"train_features\", train_features, train_label)\n",
    "np.savez(\"test_features\", test_features, y_test)\n",
    "np.savez(\"val_features\", val_features, valid_label)"
   ]
  },
  {
   "cell_type": "code",
   "execution_count": 29,
   "metadata": {},
   "outputs": [
    {
     "name": "stdout",
     "output_type": "stream",
     "text": [
      "(48000, 1, 1, 512) \n",
      " (10000, 1, 1, 512) \n",
      " (12000, 1, 1, 512)\n"
     ]
    }
   ],
   "source": [
    "print(train_features.shape, \"\\n\",  test_features.shape, \"\\n\", val_features.shape)"
   ]
  },
  {
   "cell_type": "code",
   "execution_count": 30,
   "metadata": {},
   "outputs": [],
   "source": [
    "train_features_flat = np.reshape(train_features, (48000, 1*1*512))\n",
    "test_features_flat = np.reshape(test_features, (10000, 1*1*512))\n",
    "val_features_flat = np.reshape(val_features, (12000, 1*1*512))"
   ]
  },
  {
   "cell_type": "code",
   "execution_count": 67,
   "metadata": {},
   "outputs": [],
   "source": [
    "from keras import models\n",
    "from keras.models import Model\n",
    "from keras import layers\n",
    "from keras import optimizers\n",
    "from keras import callbacks\n",
    "from keras.layers.advanced_activations import LeakyReLU"
   ]
  },
  {
   "cell_type": "code",
   "execution_count": 68,
   "metadata": {},
   "outputs": [],
   "source": [
    "# Densely connected classifier, leakyrelu layer and a dense layer for the output classes\n",
    "model = models.Sequential()\n",
    "model.add(layers.Dense(512, activation='relu', input_dim=(1*1*512)))\n",
    "model.add(layers.LeakyReLU(alpha=0.1))\n",
    "model.add(layers.Dense(num_classes, activation='softmax'))"
   ]
  },
  {
   "cell_type": "code",
   "execution_count": 69,
   "metadata": {},
   "outputs": [],
   "source": [
    "# Compile the mode\n",
    "model.compile(\n",
    "    loss='categorical_crossentropy',\n",
    "    optimizer=optimizers.Adam(learning_rate=0.25),\n",
    "    metrics=['acc'])"
   ]
  },
  {
   "cell_type": "code",
   "execution_count": 70,
   "metadata": {},
   "outputs": [],
   "source": [
    "# Reduced learning and early stopping callbacks\n",
    "reduce_learning = callbacks.ReduceLROnPlateau(monitor='val_loss', factor=0.2,\n",
    "                              patience=5, min_lr=0.001)\n",
    "\n",
    "eary_stopping = callbacks.EarlyStopping(\n",
    "    monitor='val_loss',\n",
    "    min_delta=0,\n",
    "    patience=8,\n",
    "    verbose=1,\n",
    "    mode='auto')\n",
    "\n",
    "callbacks_used = [reduce_learning, eary_stopping]"
   ]
  },
  {
   "cell_type": "code",
   "execution_count": 71,
   "metadata": {},
   "outputs": [
    {
     "name": "stdout",
     "output_type": "stream",
     "text": [
      "Train on 48000 samples, validate on 12000 samples\n",
      "Epoch 1/250\n",
      "48000/48000 [==============================] - 10s 217us/step - loss: 3.7599 - acc: 0.0998 - val_loss: 2.3286 - val_acc: 0.1015\n",
      "Epoch 2/250\n",
      "48000/48000 [==============================] - 10s 199us/step - loss: 2.3313 - acc: 0.1018 - val_loss: 2.3428 - val_acc: 0.1016\n",
      "Epoch 3/250\n",
      "48000/48000 [==============================] - 11s 230us/step - loss: 2.3350 - acc: 0.0986 - val_loss: 2.3160 - val_acc: 0.0997\n",
      "Epoch 4/250\n",
      "48000/48000 [==============================] - 13s 261us/step - loss: 2.3366 - acc: 0.0993 - val_loss: 2.3393 - val_acc: 0.0987\n",
      "Epoch 5/250\n",
      "48000/48000 [==============================] - 11s 226us/step - loss: 2.3321 - acc: 0.0979 - val_loss: 2.3231 - val_acc: 0.1009\n",
      "Epoch 6/250\n",
      "48000/48000 [==============================] - 10s 201us/step - loss: 2.3336 - acc: 0.0984 - val_loss: 2.3578 - val_acc: 0.1002\n",
      "Epoch 7/250\n",
      "48000/48000 [==============================] - 10s 205us/step - loss: 2.3344 - acc: 0.1011 - val_loss: 2.3194 - val_acc: 0.1002\n",
      "Epoch 8/250\n",
      "48000/48000 [==============================] - 12s 244us/step - loss: 2.3355 - acc: 0.0997 - val_loss: 2.3120 - val_acc: 0.0987\n",
      "Epoch 9/250\n",
      "48000/48000 [==============================] - 11s 231us/step - loss: 2.3336 - acc: 0.1006 - val_loss: 2.3226 - val_acc: 0.1002\n",
      "Epoch 10/250\n",
      "48000/48000 [==============================] - 12s 240us/step - loss: 2.3328 - acc: 0.1000 - val_loss: 2.3309 - val_acc: 0.1002\n",
      "Epoch 11/250\n",
      "48000/48000 [==============================] - 14s 293us/step - loss: 2.3339 - acc: 0.0974 - val_loss: 2.3262 - val_acc: 0.0997\n",
      "Epoch 12/250\n",
      "48000/48000 [==============================] - 18s 369us/step - loss: 2.3322 - acc: 0.0992 - val_loss: 2.3408 - val_acc: 0.1016\n",
      "Epoch 13/250\n",
      "48000/48000 [==============================] - 13s 268us/step - loss: 2.3328 - acc: 0.1006 - val_loss: 2.3219 - val_acc: 0.1015\n",
      "Epoch 14/250\n",
      "48000/48000 [==============================] - 11s 237us/step - loss: 2.3091 - acc: 0.1008 - val_loss: 2.3162 - val_acc: 0.0987\n",
      "Epoch 15/250\n",
      "48000/48000 [==============================] - 10s 216us/step - loss: 2.3092 - acc: 0.1000 - val_loss: 2.3055 - val_acc: 0.1009\n",
      "Epoch 16/250\n",
      "48000/48000 [==============================] - 10s 204us/step - loss: 2.3090 - acc: 0.0972 - val_loss: 2.3074 - val_acc: 0.1004\n",
      "Epoch 17/250\n",
      "48000/48000 [==============================] - 14s 299us/step - loss: 2.3094 - acc: 0.1000 - val_loss: 2.3051 - val_acc: 0.1002\n",
      "Epoch 18/250\n",
      "48000/48000 [==============================] - 15s 304us/step - loss: 2.3095 - acc: 0.0996 - val_loss: 2.3091 - val_acc: 0.1016\n",
      "Epoch 19/250\n",
      "48000/48000 [==============================] - 17s 361us/step - loss: 2.3089 - acc: 0.1000 - val_loss: 2.3138 - val_acc: 0.1002\n",
      "Epoch 20/250\n",
      "48000/48000 [==============================] - 16s 343us/step - loss: 2.3098 - acc: 0.0992 - val_loss: 2.3070 - val_acc: 0.1002\n",
      "Epoch 21/250\n",
      "48000/48000 [==============================] - 12s 244us/step - loss: 2.3087 - acc: 0.1024 - val_loss: 2.3104 - val_acc: 0.1002\n",
      "Epoch 22/250\n",
      "48000/48000 [==============================] - 10s 203us/step - loss: 2.3092 - acc: 0.1005 - val_loss: 2.3102 - val_acc: 0.1004\n",
      "Epoch 23/250\n",
      "48000/48000 [==============================] - 10s 218us/step - loss: 2.3041 - acc: 0.0994 - val_loss: 2.3037 - val_acc: 0.1004\n",
      "Epoch 24/250\n",
      "48000/48000 [==============================] - 11s 224us/step - loss: 2.3039 - acc: 0.0994 - val_loss: 2.3033 - val_acc: 0.1016\n",
      "Epoch 25/250\n",
      "48000/48000 [==============================] - 11s 221us/step - loss: 2.3038 - acc: 0.0998 - val_loss: 2.3036 - val_acc: 0.1002\n",
      "Epoch 26/250\n",
      "48000/48000 [==============================] - 11s 228us/step - loss: 2.3038 - acc: 0.1030 - val_loss: 2.3047 - val_acc: 0.1002\n",
      "Epoch 27/250\n",
      "48000/48000 [==============================] - 11s 231us/step - loss: 2.3040 - acc: 0.1002 - val_loss: 2.3048 - val_acc: 0.0966\n",
      "Epoch 28/250\n",
      "48000/48000 [==============================] - 11s 224us/step - loss: 2.3038 - acc: 0.1028 - val_loss: 2.3039 - val_acc: 0.0966\n",
      "Epoch 29/250\n",
      "48000/48000 [==============================] - 11s 230us/step - loss: 2.3039 - acc: 0.1009 - val_loss: 2.3037 - val_acc: 0.1002\n",
      "Epoch 30/250\n",
      "48000/48000 [==============================] - 13s 262us/step - loss: 2.3030 - acc: 0.0995 - val_loss: 2.3027 - val_acc: 0.1004\n",
      "Epoch 31/250\n",
      "48000/48000 [==============================] - 13s 271us/step - loss: 2.3029 - acc: 0.0978 - val_loss: 2.3028 - val_acc: 0.1002\n",
      "Epoch 32/250\n",
      "48000/48000 [==============================] - 12s 253us/step - loss: 2.3029 - acc: 0.0978 - val_loss: 2.3028 - val_acc: 0.0966\n",
      "Epoch 33/250\n",
      "48000/48000 [==============================] - 10s 200us/step - loss: 2.3029 - acc: 0.1006 - val_loss: 2.3028 - val_acc: 0.1002\n",
      "Epoch 34/250\n",
      "48000/48000 [==============================] - 9s 198us/step - loss: 2.3029 - acc: 0.0999 - val_loss: 2.3028 - val_acc: 0.1004\n",
      "Epoch 35/250\n",
      "48000/48000 [==============================] - 11s 227us/step - loss: 2.3029 - acc: 0.0984 - val_loss: 2.3028 - val_acc: 0.1002\n",
      "Epoch 36/250\n",
      "48000/48000 [==============================] - 12s 257us/step - loss: 2.3028 - acc: 0.0983 - val_loss: 2.3026 - val_acc: 0.1016\n",
      "Epoch 37/250\n",
      "48000/48000 [==============================] - 11s 228us/step - loss: 2.3028 - acc: 0.1002 - val_loss: 2.3027 - val_acc: 0.1009\n",
      "Epoch 38/250\n",
      "48000/48000 [==============================] - 14s 299us/step - loss: 2.3028 - acc: 0.0975 - val_loss: 2.3027 - val_acc: 0.0966\n",
      "Epoch 39/250\n",
      "48000/48000 [==============================] - 10s 203us/step - loss: 2.3028 - acc: 0.0963 - val_loss: 2.3026 - val_acc: 0.1002\n",
      "Epoch 40/250\n",
      "48000/48000 [==============================] - 11s 223us/step - loss: 2.3028 - acc: 0.0984 - val_loss: 2.3027 - val_acc: 0.0997\n",
      "Epoch 41/250\n",
      "48000/48000 [==============================] - 10s 206us/step - loss: 2.3027 - acc: 0.0991 - val_loss: 2.3027 - val_acc: 0.1004\n",
      "Epoch 42/250\n",
      "48000/48000 [==============================] - 10s 215us/step - loss: 2.3028 - acc: 0.0988 - val_loss: 2.3026 - val_acc: 0.1002\n",
      "Epoch 43/250\n",
      "48000/48000 [==============================] - 18s 378us/step - loss: 2.3028 - acc: 0.0984 - val_loss: 2.3026 - val_acc: 0.0997\n",
      "Epoch 44/250\n",
      "48000/48000 [==============================] - 16s 324us/step - loss: 2.3028 - acc: 0.0999 - val_loss: 2.3026 - val_acc: 0.1009\n",
      "Epoch 00044: early stopping\n"
     ]
    }
   ],
   "source": [
    "NB_TRAIN_SAMPLES = train_features_flat.shape[0]\n",
    "NB_VALIDATION_SAMPLES = val_features_flat.shape[0]\n",
    "NB_EPOCHS = 250\n",
    "\n",
    "history = model.fit(\n",
    "    train_features_flat,\n",
    "    train_label,\n",
    "    epochs=NB_EPOCHS,\n",
    "    validation_data=(val_features_flat, valid_label),\n",
    "    callbacks=callbacks_used\n",
    ")"
   ]
  },
  {
   "cell_type": "code",
   "execution_count": 72,
   "metadata": {
    "scrolled": false
   },
   "outputs": [
    {
     "data": {
      "image/png": "[encoded data removed]",
      "text/plain": [
       "<Figure size 432x288 with 1 Axes>"
      ]
     },
     "metadata": {
      "needs_background": "light"
     },
     "output_type": "display_data"
    },
    {
     "data": {
      "image/png": "[encoded data removed]",
      "text/plain": [
       "<Figure size 432x288 with 1 Axes>"
      ]
     },
     "metadata": {
      "needs_background": "light"
     },
     "output_type": "display_data"
    }
   ],
   "source": [
    "# plot the loss and accuracy\n",
    "\n",
    "acc = history.history['acc']\n",
    "val_acc = history.history['val_acc']\n",
    "loss = history.history['loss']\n",
    "val_loss = history.history['val_loss']\n",
    "epochs = range(1, len(acc) + 1)\n",
    "\n",
    "plt.title('Training and validation accuracy')\n",
    "plt.plot(epochs, acc, 'red', label='Training acc')\n",
    "plt.plot(epochs, val_acc, 'blue', label='Validation acc')\n",
    "plt.legend()\n",
    "\n",
    "plt.figure()\n",
    "plt.title('Training and validation loss')\n",
    "plt.plot(epochs, loss, 'red', label='Training loss')\n",
    "plt.plot(epochs, val_loss, 'blue', label='Validation loss')\n",
    "\n",
    "plt.legend()\n",
    "\n",
    "plt.show()"
   ]
  },
  {
   "cell_type": "code",
   "execution_count": 73,
   "metadata": {},
   "outputs": [
    {
     "name": "stdout",
     "output_type": "stream",
     "text": [
      "Saved model to disk\n"
     ]
    }
   ],
   "source": [
    "# serialize model to JSON\n",
    "model_json = model.to_json()\n",
    "with open(\"vgg16_cnn.json\", \"w\") as json_file:\n",
    "    json_file.write(model_json)\n",
    "\n",
    "# serialize weights to HDF5\n",
    "model.save_weights(\"vgg16_cnn.h5\")\n",
    "print(\"Saved model to disk\")"
   ]
  },
  {
   "cell_type": "code",
   "execution_count": null,
   "metadata": {},
   "outputs": [],
   "source": []
  }
 ],
 "metadata": {
  "kernelspec": {
   "display_name": "Python 3",
   "language": "python",
   "name": "python3"
  },
  "language_info": {
   "codemirror_mode": {
    "name": "ipython",
    "version": 3
   },
   "file_extension": ".py",
   "mimetype": "text/x-python",
   "name": "python",
   "nbconvert_exporter": "python",
   "pygments_lexer": "ipython3",
   "version": "3.7.4"
  }
 },
 "nbformat": 4,
 "nbformat_minor": 4
}
